{
 "cells": [
  {
   "cell_type": "code",
   "execution_count": 23,
   "metadata": {
    "collapsed": true,
    "pycharm": {
     "is_executing": false
    }
   },
   "outputs": [
    {
     "name": "stdout",
     "text": [
      "{'Ingles': 7.9, 'Mate': 9.0, 'Español': 6.5, 'Hakuna': 10.2}\n",
      "{'Notas1': [1, 2, 3, 4, 5], 'Notas2': [6, 7, 8, 9, 10], 'Notas3': [3, 5, 7, 9]}\n",
      "dict_keys(['Ingles', 'Mate', 'Español', 'Hakuna'])\n",
      "dict_values([[1, 2, 3, 4, 5], [6, 7, 8, 9, 10], [3, 5, 7, 9]])\n",
      "dict_items([('Notas1', [1, 2, 3, 4, 5]), ('Notas2', [6, 7, 8, 9, 10]), ('Notas3', [3, 5, 7, 9])])\n",
      "7.9\n",
      "[1, 2, 3, 4, 5]\n",
      "{'Ingles': 7.9, 'Mate': 9.0, 'Español': 6.5, 'Hakuna': 10.2, 'Programacion': 7.8}\n",
      "{'Notas2': [10, 11, 12, 13, 14], 'Notas3': [3, 5, 7, 9]}\n",
      "El promedio es: 8.279999999999998\n",
      "La suma acumulada es: 84.0\n",
      "the key of 7.9 is Ingles\n",
      "the key of 9.0 is Mate\n",
      "the key of 6.5 is Español\n",
      "the key of 10.2 is Hakuna\n",
      "the key of 7.8 is Programacion\n"
     ],
     "output_type": "stream"
    }
   ],
   "source": [
    "dict1 = {'Ingles':7.9,'Mate':9.0,'Español':6.5}\n",
    "dict2 = {'Notas1': [1,2,3,4,5], 'Notas2': [6,7,8,9,10]}\n",
    "\n",
    "dict1['Hakuna'] = 10.2\n",
    "dict2['Notas3'] = [3,5,7,9]\n",
    "\n",
    "print(dict1)\n",
    "print(dict2)\n",
    "print(dict1.keys())\n",
    "print(dict2.values())\n",
    "print(dict2.items())\n",
    "print(dict1['Ingles'])\n",
    "print(dict2['Notas1'])\n",
    "\n",
    "dict1.update({'Programacion':7.8})\n",
    "dict2.pop('Notas1')\n",
    "dict2['Notas2'] = [10,11,12,13,14]\n",
    "\n",
    "print(dict1)\n",
    "print(dict2)\n",
    "\n",
    "promedio_semestre = 0.0\n",
    "for i in dict1:\n",
    "    promedio_semestre += dict1[i]\n",
    "    \n",
    "promedio_semestre = promedio_semestre/len(dict1)\n",
    "    \n",
    "sum_notas2 = 0.0\n",
    "for i in dict2:\n",
    "    l = dict2[i]\n",
    "    for j in l:\n",
    "        sum_notas2 += j\n",
    "    \n",
    "print(f'El promedio es: {promedio_semestre}')\n",
    "print(f\"La suma acumulada es: {sum_notas2}\")\n",
    "\n",
    "for key, values in dict1.items():\n",
    "    print(f\"the key of {values} is {key}\")\n"
   ]
  },
  {
   "cell_type": "code",
   "execution_count": 45,
   "outputs": [
    {
     "name": "stdout",
     "text": [
      "Welcome to cryptography codec, please choose an option: \n",
      "    1. Codec message.\n",
      "    2. Decode message.\n",
      "    3. Out\n",
      "The decode message is: \"Hola Programador\"\n",
      "Welcome to cryptography codec, please choose an option: \n",
      "    1. Codec message.\n",
      "    2. Decode message.\n",
      "    3. Out\n"
     ],
     "output_type": "stream"
    }
   ],
   "source": [
    "KEYS = {\n",
    "    'a': 'w',\n",
    "    'b': 'E',\n",
    "    'c': 'x',\n",
    "    'd': '1',\n",
    "    'e': 'a',\n",
    "    'f': 't',\n",
    "    'g': '0',\n",
    "    'h': 'C',\n",
    "    'i': 'b',\n",
    "    'j': '!',\n",
    "    'k': 'z',\n",
    "    'l': '8',\n",
    "    'm': 'M',\n",
    "    'n': 'I',\n",
    "    'o': 'd',\n",
    "    'p': '.',\n",
    "    'q': 'U',\n",
    "    'r': 'Y',\n",
    "    's': 'i',\n",
    "    't': '3',\n",
    "    'u': ',',\n",
    "    'v': 'J',\n",
    "    'w': 'N',\n",
    "    'x': 'f',\n",
    "    'y': 'm',\n",
    "    'z': 'W',\n",
    "    'A': 'G',\n",
    "    'B': 'S',\n",
    "    'C': 'j',\n",
    "    'D': 'n',\n",
    "    'E': 's',\n",
    "    'F': 'Q',\n",
    "    'G': 'o',\n",
    "    'H': 'e',\n",
    "    'I': 'u',\n",
    "    'J': 'g',\n",
    "    'K': '2',\n",
    "    'L': '9',\n",
    "    'M': 'A',\n",
    "    'N': '5',\n",
    "    'O': '4',\n",
    "    'P': '?',\n",
    "    'Q': 'c',\n",
    "    'R': 'r',\n",
    "    'S': 'O',\n",
    "    'T': 'P',\n",
    "    'U': 'h',\n",
    "    'V': '6',\n",
    "    'W': 'q',\n",
    "    'X': 'H',\n",
    "    'Y': 'R',\n",
    "    'Z': 'l',\n",
    "    '0': 'k',\n",
    "    '1': '7',\n",
    "    '2': 'X',\n",
    "    '3': 'L',\n",
    "    '4': 'p',\n",
    "    '5': 'v',\n",
    "    '6': 'T',\n",
    "    '7': 'V',\n",
    "    '8': 'y',\n",
    "    '9': 'K',\n",
    "    '.': 'Z',\n",
    "    ',': 'D',\n",
    "    '?': 'F',\n",
    "    '!': 'B',\n",
    "    ' ': ' '\n",
    "}\n",
    "\n",
    "def code(message_to_code):\n",
    "    message_length = len(message_to_code)\n",
    "    for idx in range(message_length):\n",
    "        message_to_code[idx] = KEYS[message_to_code[idx]]\n",
    "    return \"\".join(message_to_code)\n",
    "\n",
    "def decode(message_to_decode):\n",
    "    message_length = len(message_to_decode)\n",
    "    keys = list(KEYS.keys())\n",
    "    values = list(KEYS.values())\n",
    "    for idx in range(message_length):\n",
    "        index = values.index(message_to_decode[idx])\n",
    "        message_to_decode[idx] = keys[index]\n",
    "    return \"\".join(message_to_decode)\n",
    "\n",
    "while True:\n",
    "    \n",
    "    print(\"\"\"Welcome to cryptography codec, please choose an option: \n",
    "    1. Codec message.\n",
    "    2. Decode message.\n",
    "    3. Out\"\"\")\n",
    "    \n",
    "    option = int(input())\n",
    "    \n",
    "    if option == 1:\n",
    "        message = list(input(\"Ingresa el mensaje a codificar: \"))\n",
    "        message_code = code(message)\n",
    "        print(f\"The code message is: \\\"{message_code}\\\"\")\n",
    "    elif option == 2:\n",
    "        message = list(input(\"Ingresa el mensaje a decodificar: \"))\n",
    "        message_decode = decode(message)\n",
    "        print(f\"The decode message is: \\\"{message_decode}\\\"\")\n",
    "    else:\n",
    "        break\n",
    "    "
   ],
   "metadata": {
    "collapsed": false,
    "pycharm": {
     "name": "#%%\n",
     "is_executing": false
    }
   }
  },
  {
   "cell_type": "code",
   "execution_count": 28,
   "outputs": [
    {
     "name": "stdout",
     "text": [
      "['e', 'e']\n",
      "['H', 'L']\n",
      "{'Q': None}\n"
     ],
     "output_type": "stream"
    }
   ],
   "source": [
    "op = list(input())\n",
    "print(op)\n",
    "DICT = {'H':'Q', 'L':'J'}\n",
    "print(list(DICT.keys()))\n",
    "print(DICT.fromkeys('Q'))\n",
    "\n"
   ],
   "metadata": {
    "collapsed": false,
    "pycharm": {
     "name": "#%%\n",
     "is_executing": false
    }
   }
  }
 ],
 "metadata": {
  "kernelspec": {
   "display_name": "Python 3",
   "language": "python",
   "name": "python3"
  },
  "language_info": {
   "codemirror_mode": {
    "name": "ipython",
    "version": 2
   },
   "file_extension": ".py",
   "mimetype": "text/x-python",
   "name": "python",
   "nbconvert_exporter": "python",
   "pygments_lexer": "ipython2",
   "version": "2.7.6"
  },
  "pycharm": {
   "stem_cell": {
    "cell_type": "raw",
    "source": [],
    "metadata": {
     "collapsed": false
    }
   }
  }
 },
 "nbformat": 4,
 "nbformat_minor": 0
}