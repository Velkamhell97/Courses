{
 "cells": [
  {
   "cell_type": "code",
   "execution_count": 22,
   "metadata": {
    "collapsed": true,
    "pycharm": {
     "is_executing": false
    }
   },
   "outputs": [
    {
     "name": "stdout",
     "text": [
      "130 pesos mexicanos son $ 22527.7 pesos colombianos\n"
     ],
     "output_type": "stream"
    }
   ],
   "source": [
    "from selenium import webdriver\n",
    "from bs4 import BeautifulSoup\n",
    "import pandas as pd\n",
    "\n",
    "def x2col(valor_total,moneda_origen):\n",
    "    driver = webdriver.Chrome(\"chromedriver\")\n",
    "    palabras = moneda_origen.split(\" \")\n",
    "    formato_origen=\"\"\n",
    "    for i in palabras:\n",
    "        formato_origen = formato_origen+str(i)+\"+\"\n",
    "    url = \"https://www.google.com/search?rlz=1C1CHBD_esCO878CO878&sxsrf=ACYBGNQzmA5OY9DVkbJniFnd34x7APW1fA%3A1578454661800&ei=hU4VXsqyMOfc5gKXtIwo&q=\"+formato_origen+\"a+peso+colombiano&oq=\"+formato_origen+\"a+peso+colombiano&gs_l=psy-ab.3..35i39i70i258j0j0i203j0l7.748746.753255..753531...1.1..0.236.4136.0j22j2......0....1..gws-wiz.......0i71j35i39j0i67j0i131i67j0i131j0i131i10j35i305i39i70i258j0i10.3Dl1onI_s5E&ved=0ahUKEwiKiaTrifPmAhVnrlkKHRcaAwUQ4dUDCAs&uact=5\"\n",
    "    driver.get(url)\n",
    "    content = driver.page_source\n",
    "    soup = BeautifulSoup(content)\n",
    "    tag = soup.find('span',attrs={'class':'DFlfde SwHCTb'})\n",
    "    valor_origen = float(tag.text.replace(\",\",\"\"))\n",
    "    valor_colombia = valor_origen*float(valor_total)\n",
    "    return valor_colombia\n",
    "    \n",
    "valor = input(\"Ingresa el valor en numeros que deseas convertir a pesos colombianos\")\n",
    "moneda = input(\"Ingresa el tipo de moneda que deseas convertir a peso colombiano\")\n",
    "\n",
    "print(f\"{valor} {moneda} son $ {x2col(valor,moneda)} pesos colombianos\")"
   ]
  },
  {
   "cell_type": "code",
   "execution_count": 3,
   "outputs": [
    {
     "name": "stdout",
     "text": [
      "The number is odd\n"
     ],
     "output_type": "stream"
    }
   ],
   "source": [
    "def isodd(number_to_test):\n",
    "    if number_to_test % 2 != 0: \n",
    "        return True\n",
    "    else: \n",
    "        return False\n",
    "\n",
    "number = int(input(\"Enter a number: \"))\n",
    "if isodd(number):\n",
    "    print(\"The number is odd\")\n",
    "else:\n",
    "    print(\"The number is even\")"
   ],
   "metadata": {
    "collapsed": false,
    "pycharm": {
     "name": "#%%\n",
     "is_executing": false
    }
   }
  },
  {
   "cell_type": "code",
   "execution_count": 8,
   "outputs": [
    {
     "name": "stdout",
     "text": [
      "The number is not prime\n"
     ],
     "output_type": "stream"
    }
   ],
   "source": [
    "def isprime(number_to_test):\n",
    "    counter = 0\n",
    "    for i in range(1,number_to_test+1):\n",
    "        if number_to_test % i == 0:\n",
    "            counter = counter + 1\n",
    "    \n",
    "    if counter == 2:\n",
    "        return  True\n",
    "    else:\n",
    "        return False\n",
    "\n",
    "number = int(input(\"Enter a number: \"))\n",
    "if isprime(number):\n",
    "    print(\"The number is prime\")\n",
    "else:\n",
    "    print(\"The number is not prime\")"
   ],
   "metadata": {
    "collapsed": false,
    "pycharm": {
     "name": "#%%\n",
     "is_executing": false
    }
   }
  },
  {
   "cell_type": "code",
   "execution_count": 11,
   "outputs": [
    {
     "name": "stdout",
     "text": [
      "The factorial of 5 is 120\n"
     ],
     "output_type": "stream"
    }
   ],
   "source": [
    "def factorialOf(number_to_test):\n",
    "    accumulator = 1\n",
    "    for i in range(number_to_test,0,-1):\n",
    "        accumulator = accumulator * i\n",
    "    return accumulator\n",
    "number = int(input(\"Enter a number: \"))\n",
    "print(f\"The factorial of {number} is {factorialOf(number)}\")"
   ],
   "metadata": {
    "collapsed": false,
    "pycharm": {
     "name": "#%%\n",
     "is_executing": false
    }
   }
  },
  {
   "cell_type": "code",
   "execution_count": 1,
   "outputs": [
    {
     "name": "stdout",
     "text": [
      "El area del cuadrado es: 25 y su perimetro es: 20\n"
     ],
     "output_type": "stream"
    }
   ],
   "source": [
    "def area_perimetro_cuadrado(l):\n",
    "    area = l*l\n",
    "    perimetro = l*4\n",
    "    return area,perimetro\n",
    "\n",
    "area, perimetro = area_perimetro_cuadrado(5)\n",
    "print(f\"El area del cuadrado es: {area} y su perimetro es: {perimetro}\")"
   ],
   "metadata": {
    "collapsed": false,
    "pycharm": {
     "name": "#%%\n",
     "is_executing": false
    }
   }
  }
 ],
 "metadata": {
  "kernelspec": {
   "display_name": "Python 3",
   "language": "python",
   "name": "python3"
  },
  "language_info": {
   "codemirror_mode": {
    "name": "ipython",
    "version": 2
   },
   "file_extension": ".py",
   "mimetype": "text/x-python",
   "name": "python",
   "nbconvert_exporter": "python",
   "pygments_lexer": "ipython2",
   "version": "2.7.6"
  },
  "pycharm": {
   "stem_cell": {
    "cell_type": "raw",
    "source": [],
    "metadata": {
     "collapsed": false
    }
   }
  }
 },
 "nbformat": 4,
 "nbformat_minor": 0
}