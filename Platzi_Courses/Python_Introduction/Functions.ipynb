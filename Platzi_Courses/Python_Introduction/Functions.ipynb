{
 "cells": [
  {
   "cell_type": "code",
   "execution_count": 22,
   "metadata": {
    "collapsed": true,
    "pycharm": {
     "is_executing": false
    }
   },
   "outputs": [
    {
     "name": "stdout",
     "text": [
      "130 pesos mexicanos son $ 22527.7 pesos colombianos\n"
     ],
     "output_type": "stream"
    }
   ],
   "source": [
    "from selenium import webdriver\n",
    "from bs4 import BeautifulSoup\n",
    "import pandas as pd\n",
    "\n",
    "def x2col(valor_total,moneda_origen):\n",
    "    driver = webdriver.Chrome(\"chromedriver\")\n",
    "    palabras = moneda_origen.split(\" \")\n",
    "    formato_origen=\"\"\n",
    "    for i in palabras:\n",
    "        formato_origen = formato_origen+str(i)+\"+\"\n",
    "    url = \"https://www.google.com/search?rlz=1C1CHBD_esCO878CO878&sxsrf=ACYBGNQzmA5OY9DVkbJniFnd34x7APW1fA%3A1578454661800&ei=hU4VXsqyMOfc5gKXtIwo&q=\"+formato_origen+\"a+peso+colombiano&oq=\"+formato_origen+\"a+peso+colombiano&gs_l=psy-ab.3..35i39i70i258j0j0i203j0l7.748746.753255..753531...1.1..0.236.4136.0j22j2......0....1..gws-wiz.......0i71j35i39j0i67j0i131i67j0i131j0i131i10j35i305i39i70i258j0i10.3Dl1onI_s5E&ved=0ahUKEwiKiaTrifPmAhVnrlkKHRcaAwUQ4dUDCAs&uact=5\"\n",
    "    driver.get(url)\n",
    "    content = driver.page_source\n",
    "    soup = BeautifulSoup(content)\n",
    "    tag = soup.find('span',attrs={'class':'DFlfde SwHCTb'})\n",
    "    valor_origen = float(tag.text.replace(\",\",\"\"))\n",
    "    valor_colombia = valor_origen*float(valor_total)\n",
    "    return valor_colombia\n",
    "    \n",
    "valor = input(\"Ingresa el valor en numeros que deseas convertir a pesos colombianos\")\n",
    "moneda = input(\"Ingresa el tipo de moneda que deseas convertir a peso colombiano\")\n",
    "\n",
    "print(f\"{valor} {moneda} son $ {x2col(valor,moneda)} pesos colombianos\")"
   ]
  },
  {
   "cell_type": "code",
   "execution_count": null,
   "outputs": [],
   "source": [],
   "metadata": {
    "collapsed": false,
    "pycharm": {
     "name": "#%%\n"
    }
   }
  }
 ],
 "metadata": {
  "kernelspec": {
   "display_name": "Python 3",
   "language": "python",
   "name": "python3"
  },
  "language_info": {
   "codemirror_mode": {
    "name": "ipython",
    "version": 2
   },
   "file_extension": ".py",
   "mimetype": "text/x-python",
   "name": "python",
   "nbconvert_exporter": "python",
   "pygments_lexer": "ipython2",
   "version": "2.7.6"
  },
  "pycharm": {
   "stem_cell": {
    "cell_type": "raw",
    "source": [],
    "metadata": {
     "collapsed": false
    }
   }
  }
 },
 "nbformat": 4,
 "nbformat_minor": 0
}