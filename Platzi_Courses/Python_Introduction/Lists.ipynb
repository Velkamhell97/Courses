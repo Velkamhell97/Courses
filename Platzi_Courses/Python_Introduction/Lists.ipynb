{
 "cells": [
  {
   "cell_type": "code",
   "execution_count": null,
   "metadata": {
    "collapsed": true,
    "pycharm": {
     "is_executing": false
    }
   },
   "outputs": [],
   "source": [
    "list_test = [1,2,\"Hola\",True] # the lists are mutable and it can store any type of data\n",
    "print(list_test)\n",
    "print(list_test[2])\n",
    "\n",
    "list_test[3] = False\n",
    "print(list_test)\n",
    "\n",
    "list_test.append(4)\n",
    "list_test.insert(0,0)\n",
    "list_test2 = [5,6,7]\n",
    "list_total = list_test + list_test2\n",
    "print(list_test)\n",
    "print(list_test2)\n",
    "print(list_total)\n",
    "\n",
    "def average_or_accumulate(data_to_test,operation):\n",
    "    sum = 0\n",
    "    for i in data_to_test:\n",
    "        sum = sum +i\n",
    "    if operation == 1:\n",
    "        return sum/len(data_to_test)\n",
    "    else:\n",
    "        return sum\n",
    "    \n",
    "data = input(\"Enter your list data separated by a comma\")\n",
    "option = int(input(\"\"\"Choose a operation:\n",
    "1. Average\n",
    "2. Accumulated sum\"\"\"))\n",
    "data = data.split(\",\")\n",
    "data = list(map(int,data))\n",
    "if option == 1:\n",
    "    print(f\"the average of the list {data} is: {average_or_accumulate(data,option)}\")\n",
    "else:\n",
    "    print(f\"The accumulated sum of the list {data} is {average_or_accumulate(data,2)}\")"
   ]
  },
  {
   "cell_type": "code",
   "execution_count": null,
   "outputs": [],
   "source": [
    "from selenium import webdriver\n",
    "from selenium.webdriver.chrome.options import Options\n",
    "from bs4 import BeautifulSoup\n",
    "import unidecode\n",
    "\n",
    "def getword():\n",
    "    options = Options()\n",
    "    options.add_argument('--headless')\n",
    "    options.add_argument('--disable-gpu')\n",
    "    driver = webdriver.Chrome(\"chromedriver\",options=options)\n",
    "    driver.get(\"https://www.palabrasaleatorias.com/\")\n",
    "    content = driver.page_source\n",
    "    soup = BeautifulSoup(content)\n",
    "    tag = soup.find('div',attrs={'style':'font-size:3em; color:#6200C5;'})\n",
    "    tag_text = tag.text.split(\" \")\n",
    "    tag_text = unidecode.unidecode(tag_text[0]).lower()\n",
    "    final_text = tag_text.replace(\"\\n\",\"\")\n",
    "    return  final_text\n",
    "\n",
    "def correct_word(old,letter,word,score):\n",
    "    list_word = list(word)\n",
    "    index_list = []\n",
    "    while letter in list_word:\n",
    "        index = list_word.index(letter)\n",
    "        index_list.append(index)\n",
    "        list_word[index] = ' '\n",
    "        \n",
    "    old_list = list(old)\n",
    "    for i in index_list:\n",
    "        old_list[44+(i*4)] = letter\n",
    "    \n",
    "    if score < len(word):\n",
    "        new_message = list(\"Bien hecho, sigue asi!   \")\n",
    "    else:\n",
    "        new_message = list(\"FELICITACIONES GANASTE!  \")\n",
    "    \n",
    "    start = 100+(len(word)*8) # el 100 es la suma de los espacios fijos y el 8 es porque se toma en cuenta 2 veces el numero de letras*4\n",
    "    old_list[start:start+25] = new_message\n",
    "    hangman = \"\".join(old_list)\n",
    "    return hangman    \n",
    "\n",
    "def incorrect_word(old,word,attempt,letter):\n",
    "    pos = 0\n",
    "    if attempt == 1:\n",
    "        pos = 49+(len(word)*4) #  los valores enteros salen de la suma de los espacios necesarios\n",
    "    elif attempt == 2:\n",
    "        pos = 78+(len(word)*8) # Los valores que multiplican la longitud de la palabra depende de las veces que se repita este termino\n",
    "    elif attempt == 3:\n",
    "        pos = 130+(len(word)*8)\n",
    "    elif attempt == 4:\n",
    "        pos = 132+(len(word)*8)\n",
    "    elif attempt == 5:\n",
    "        pos = 146+(len(word)*8)\n",
    "    elif attempt == 6:\n",
    "        pos = 159+(len(word)*8)\n",
    "    elif attempt == 7:\n",
    "        pos = 161+(len(word)*8)\n",
    "    old_list = list(old)\n",
    "    if attempt < 7:\n",
    "        new_message = list(f\"Mala decision ({letter}) :(     \")\n",
    "    else:\n",
    "        new_message = list(\"lo siento, has perdido :(\")\n",
    "    start = 100+(len(word)*8)\n",
    "    old_list[start:start+25] = new_message\n",
    "    parts = ['O','|','/','\\\\','|','/','\\\\']\n",
    "    old_list[pos] = parts[attempt-1]\n",
    "    hangman = \"\".join(old_list)\n",
    "    return hangman\n",
    "    \n",
    "def create_hangman(word):\n",
    "    hangman = f\"\"\"\n",
    "     +------+\n",
    "     |      |              [{\"'-',\"*len(word)}]\n",
    "            |              -{'-'*len(word)*4}\n",
    "            |              Ingresa una letra:       \n",
    "            | \n",
    "            |\n",
    "            |\n",
    "            ==========\"\"\"\n",
    "    hangman_list = list(hangman)\n",
    "    hangman_list[42+(len(word)*4)] = ''\n",
    "    hangman = \"\".join(hangman_list)\n",
    "    return hangman\n",
    "\n",
    "print(\"Bienvenido a el Ahorcado, danos un momento mientras pensamos la palabra...\")\n",
    "\n",
    "word = \"recoleccion\"#getword()\n",
    "list_word = list(word)\n",
    "hangman = create_hangman(word)\n",
    "\n",
    "print(hangman)\n",
    "print(\"\\n---*---*---*---*---*---*---*---*---*---*---*\")\n",
    "\n",
    "score = 0\n",
    "attempt = 0\n",
    "\n",
    "while score != len(word) and attempt != 7:\n",
    "    letter = input(\"Ingresa una letra: \").lower()\n",
    "    \n",
    "    if letter in word:\n",
    "        while letter in list_word:\n",
    "                index = list_word.index(letter)\n",
    "                list_word[index] = ' '\n",
    "                score = score+1\n",
    "        hangman = correct_word(hangman,letter,word,score)\n",
    "        print(hangman)\n",
    "        print(\"\\n---*---*---*---*---*---*---*---*---*---*---*\")\n",
    "    else:\n",
    "        attempt = attempt + 1\n",
    "        hangman = incorrect_word(hangman,word,attempt,letter)\n",
    "        print(hangman)\n",
    "        print(\"\\n---*---*---*---*---*---*---*---*---*---*---*\")"
   ],
   "metadata": {
    "collapsed": false,
    "pycharm": {
     "name": "#%%\n",
     "is_executing": false
    }
   }
  },
  {
   "cell_type": "code",
   "execution_count": null,
   "outputs": [],
   "source": [
    "from Platzi_Courses.Python_Introduction.Hangman_States import ESTADOS\n",
    "import random\n",
    "\n",
    "palabras = [\"recoleccion\",\"automatico\"]\n",
    "print(\"************         B I E N V E N I D O         ************\")\n",
    "print(\"************   G E N E R A N D O  P A L A B R A  ************\")\n",
    "palabra_seleccionada = palabras[random.randint(0,len(palabras)-1)]\n",
    "longitud = len(palabra_seleccionada)\n",
    "print(\"************   P A L A B R A  G E N E R A D A    ************\")\n",
    "print(\"************ Q U E  E M P I E Z E  EL  J U E G O ************\")\n",
    "print(ESTADOS[0])\n",
    "array_letras = ['-'] * longitud\n",
    "print(array_letras)\n",
    "print(\"\\n*-----*-----*-----*-----*-----*-----*-----*-----*-----*-----*\")\n",
    "puntaje, intentos = 0, 0\n",
    "while puntaje != longitud and intentos != 7:\n",
    "    letra = input(\"Ingresa una letra: \").lower()\n",
    "    if letra in palabra_seleccionada:\n",
    "        array_indices = [x for x in range(longitud) if letra == palabra_seleccionada[x]]\n",
    "        print(ESTADOS[intentos])\n",
    "        if letra not in array_letras:\n",
    "            puntaje = puntaje + len(array_indices)\n",
    "            print(\"CORRECTO :)\\n\")\n",
    "        else:\n",
    "            print(\"YA DIJISTE ESA LETRA\\n\")\n",
    "        for x in array_indices: array_letras[x] = letra\n",
    "        print(array_letras)\n",
    "        print(\"\\n*-----*-----*-----*-----*-----*-----*-----*-----*-----*-----*\\n\")\n",
    "    else:\n",
    "        intentos = intentos + 1\n",
    "        print(ESTADOS[intentos])\n",
    "        print(\"INCORRECTO :(\\n\")\n",
    "        print(array_letras)\n",
    "        print(\"\\n*-----*-----*-----*-----*-----*-----*-----*-----*-----*-----*\\n\")\n",
    " \n",
    "print(\"GANASTE!\" if puntaje == longitud else \"PERDISTE :(\")      "
   ],
   "metadata": {
    "collapsed": false,
    "pycharm": {
     "name": "#%%\n",
     "is_executing": false
    }
   }
  },
  {
   "cell_type": "code",
   "execution_count": null,
   "outputs": [],
   "source": [
    "palabra = \"recoleccion\"\n",
    "palabra_list = list(palabra)\n",
    "print(len(palabra))\n",
    "print(palabra[10])\n",
    "print(palabra.index(\"c\",7,10))\n",
    "print(palabra_list.index(\"c\",4,10))\n",
    "print(palabra.find(\"c\",9,10))"
   ],
   "metadata": {
    "collapsed": false,
    "pycharm": {
     "name": "#%%\n",
     "is_executing": false
    }
   }
  },
  {
   "cell_type": "code",
   "execution_count": null,
   "outputs": [],
   "source": [
    "def binary_search(ordered_list, number_to_find, low, high):\n",
    "    \n",
    "    if low > high:\n",
    "        return False\n",
    "    \n",
    "    center_index = int((low + high) / 2)\n",
    "    \n",
    "    if ordered_list[center_index] == number_to_find:\n",
    "        return True\n",
    "    elif ordered_list[center_index] > number_to_find:\n",
    "        return binary_search(ordered_list, number_to_find, low, center_index - 1)\n",
    "    else:\n",
    "        return binary_search(ordered_list, number_to_find, low + 1, high)\n",
    "    \n",
    "ordered_list = [1,3,4,5,6,9,10,11,25,27,28,34,36,49,51]\n",
    "number_to_find = int(input(f\"Enter a number between : \"))\n",
    "result = binary_search(ordered_list, number_to_find, 0, len(ordered_list) - 1)\n",
    "\n",
    "if result:\n",
    "    print(\"The number is in the list.\")\n",
    "else:\n",
    "    print(\"The number is not in the list.\")\n",
    "    "
   ],
   "metadata": {
    "collapsed": false,
    "pycharm": {
     "name": "#%%\n",
     "is_executing": false
    }
   }
  },
  {
   "cell_type": "code",
   "execution_count": 63,
   "outputs": [
    {
     "name": "stdout",
     "text": [
      "The number is in the list.\n"
     ],
     "output_type": "stream"
    }
   ],
   "source": [
    "def manual_sort(list_to_sort):\n",
    "    repeat = True\n",
    "    counter = 0\n",
    "    while repeat:\n",
    "        for element in range(len(list_to_sort)-1):\n",
    "            if list_to_sort[element + 1] < list_to_sort[element]:\n",
    "                temp = list_to_sort[element]\n",
    "                list_to_sort[element] = list_to_sort[element + 1]\n",
    "                list_to_sort[element + 1] = temp\n",
    "                counter += 1\n",
    "        if counter > 0:\n",
    "            repeat = True\n",
    "            counter = 0\n",
    "        else:\n",
    "            repeat = False\n",
    "    \n",
    "    return list_to_sort\n",
    "                \n",
    "def binary_search(list_to_search, number_to_search):\n",
    "    \n",
    "    low = 0\n",
    "    high = len(list_to_search) - 1\n",
    "    center = int((low + high) / 2)\n",
    "    \n",
    "    while list_to_search[center] != number_to_search:\n",
    "        if low - 1 == center == high or low == center == high + 1:\n",
    "            return False\n",
    "        elif list_to_search[center] > number_to_search:\n",
    "            low = low\n",
    "            high = center - 1\n",
    "            center = int((low + high) / 2)\n",
    "        elif list_to_search[center] < number_to_search:\n",
    "            low = center + 1\n",
    "            high = high\n",
    "            center = int((low + high) / 2) \n",
    "            \n",
    "    return True\n",
    "\n",
    "#ordered_list = [3,5,6,9,10,11,25,27,28,34,36,49,51]\n",
    "unordered_list = [1,2,10,20,5,3,33,7,54,12,22,9,14,24,17]\n",
    "number_to_find = int(input(\"Enter a number : \"))\n",
    "to_ordered = manual_sort(unordered_list)\n",
    "result = binary_search(to_ordered, number_to_find)\n",
    "\n",
    "if result:\n",
    "    print(\"The number is in the list.\")\n",
    "else:\n",
    "    print(\"The number is not in the list.\")"
   ],
   "metadata": {
    "collapsed": false,
    "pycharm": {
     "name": "#%%\n",
     "is_executing": false
    }
   }
  },
  {
   "cell_type": "code",
   "execution_count": null,
   "outputs": [],
   "source": [
    "def test():\n",
    "    while True:\n",
    "        x = int(input(\"Ingresa un numero \"))\n",
    "        if x == 3:\n",
    "            return True\n",
    "\n",
    "test()"
   ],
   "metadata": {
    "collapsed": false,
    "pycharm": {
     "name": "#%%\n",
     "is_executing": false
    }
   }
  },
  {
   "cell_type": "code",
   "execution_count": 3,
   "outputs": [
    {
     "name": "stdout",
     "text": [
      "1. enero\n",
      "2. febrero\n",
      "3. marzo\n",
      "4. abril\n",
      "5. mayo\n",
      "[(1, 'a'), (2, 'b'), (3, 'c'), (4, 'd')]\n",
      "El cuadrado de 1 es 1\n",
      "El cuadrado de 2 es 4\n",
      "El cuadrado de 3 es 9\n",
      "El cuadrado de 4 es 16\n",
      "El cuadrado de 5 es 25\n",
      "[2, 6, 12, 20, 30]\n"
     ],
     "output_type": "stream"
    }
   ],
   "source": [
    "lista1 = ['enero','febrero','marzo','abril','mayo']\n",
    "for i,v in enumerate(lista1, start=1):\n",
    "    print(f'{i}. {v}')\n",
    "\n",
    "letters = ['a','b','c','d']\n",
    "#lista_enum = [(i,j) for i, j in enumerate(letters,start=1)]\n",
    "lista_enum = [pair for pair in enumerate(letters,start=1)]\n",
    "\n",
    "print(lista_enum)\n",
    "\n",
    "lista2 = [1,2,3,4,5]\n",
    "lista3 = [1,4,9,16,25]\n",
    "\n",
    "for i, j in zip(lista2, lista3):\n",
    "    print(f\"El cuadrado de {i} es {j}\")\n",
    "    \n",
    "list_sum = [i+j for i, j in zip(lista2,lista3)]\n",
    "print(list_sum)"
   ],
   "metadata": {
    "collapsed": false,
    "pycharm": {
     "name": "#%%\n",
     "is_executing": false
    }
   }
  }
 ],
 "metadata": {
  "kernelspec": {
   "display_name": "Python 3",
   "language": "python",
   "name": "python3"
  },
  "language_info": {
   "codemirror_mode": {
    "name": "ipython",
    "version": 2
   },
   "file_extension": ".py",
   "mimetype": "text/x-python",
   "name": "python",
   "nbconvert_exporter": "python",
   "pygments_lexer": "ipython2",
   "version": "2.7.6"
  },
  "pycharm": {
   "stem_cell": {
    "cell_type": "raw",
    "source": [],
    "metadata": {
     "collapsed": false
    }
   }
  }
 },
 "nbformat": 4,
 "nbformat_minor": 0
}