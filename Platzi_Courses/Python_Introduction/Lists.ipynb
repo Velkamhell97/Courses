{
 "cells": [
  {
   "cell_type": "code",
   "execution_count": 14,
   "metadata": {
    "collapsed": true,
    "pycharm": {
     "is_executing": false
    }
   },
   "outputs": [
    {
     "name": "stdout",
     "text": [
      "[1, 2, 'Hola', True]\nHola\n[1, 2, 'Hola', False]\n[0, 1, 2, 'Hola', False, 4]\n[5, 6, 7]\n[0, 1, 2, 'Hola', False, 4, 5, 6, 7]\n",
      "The accumulated sum of the list [20, 21, 22, 23, 24, 25] is 135\n"
     ],
     "output_type": "stream"
    }
   ],
   "source": [
    "list_test = [1,2,\"Hola\",True] # the lists are mutable and it can store any type of data\n",
    "print(list_test)\n",
    "print(list_test[2])\n",
    "\n",
    "list_test[3] = False\n",
    "print(list_test)\n",
    "\n",
    "list_test.append(4)\n",
    "list_test.insert(0,0)\n",
    "list_test2 = [5,6,7]\n",
    "list_total = list_test + list_test2\n",
    "print(list_test)\n",
    "print(list_test2)\n",
    "print(list_total)\n",
    "\n",
    "def average_or_accumulate(data_to_test,operation):\n",
    "    sum = 0\n",
    "    for i in data_to_test:\n",
    "        sum = sum +i\n",
    "    if operation == 1:\n",
    "        return sum/len(data_to_test)\n",
    "    else:\n",
    "        return sum\n",
    "    \n",
    "data = input(\"Enter your list data separated by a comma\")\n",
    "option = int(input(\"\"\"Choose a operation:\n",
    "1. Average\n",
    "2. Accumulated sum\"\"\"))\n",
    "data = data.split(\",\")\n",
    "data = list(map(int,data))\n",
    "if option == 1:\n",
    "    print(f\"the average of the list {data} is: {average_or_accumulate(data,option)}\")\n",
    "else:\n",
    "    print(f\"The accumulated sum of the list {data} is {average_or_accumulate(data,2)}\")"
   ]
  },
  {
   "cell_type": "code",
   "execution_count": null,
   "outputs": [],
   "source": [
    "\n"
   ],
   "metadata": {
    "collapsed": false,
    "pycharm": {
     "name": "#%%\n"
    }
   }
  }
 ],
 "metadata": {
  "kernelspec": {
   "display_name": "Python 3",
   "language": "python",
   "name": "python3"
  },
  "language_info": {
   "codemirror_mode": {
    "name": "ipython",
    "version": 2
   },
   "file_extension": ".py",
   "mimetype": "text/x-python",
   "name": "python",
   "nbconvert_exporter": "python",
   "pygments_lexer": "ipython2",
   "version": "2.7.6"
  },
  "pycharm": {
   "stem_cell": {
    "cell_type": "raw",
    "source": [],
    "metadata": {
     "collapsed": false
    }
   }
  }
 },
 "nbformat": 4,
 "nbformat_minor": 0
}