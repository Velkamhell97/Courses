{
 "cells": [
  {
   "cell_type": "code",
   "execution_count": 10,
   "metadata": {
    "collapsed": true,
    "pycharm": {
     "is_executing": false
    }
   },
   "outputs": [
    {
     "name": "stdout",
     "text": [
      " The lamp is turn off Now!\n",
      "         ,-.\n",
      "        (   )\n",
      "         \\ /\n",
      "        _|=|_\n",
      "       |_____|\n",
      "    \n",
      "The lamp is already off!\n",
      "\n",
      " The lamp is turn on Now!\n",
      "          .\n",
      "     .    |    ,\n",
      "      \\   '   /\n",
      "       ` ,-. '\n",
      "    --- (   ) ---\n",
      "         \\ /\n",
      "        _|=|_\n",
      "       |_____|\n",
      "    \n"
     ],
     "output_type": "stream"
    }
   ],
   "source": [
    "class Lamp:\n",
    "    _LAMPS = ['''The lamp is turn on Now!\n",
    "          .\n",
    "     .    |    ,\n",
    "      \\   '   /\n",
    "       ` ,-. '\n",
    "    --- (   ) ---\n",
    "         \\ /\n",
    "        _|=|_\n",
    "       |_____|\n",
    "    ''', \n",
    "    '''The lamp is turn off Now!\n",
    "         ,-.\n",
    "        (   )\n",
    "         \\ /\n",
    "        _|=|_\n",
    "       |_____|\n",
    "    ''']\n",
    "    \n",
    "    def __init__(self, initial_state):\n",
    "        self._estate = initial_state\n",
    "        if initial_state:\n",
    "            print(self._LAMPS[0])\n",
    "        else:\n",
    "            print(self._LAMPS[1])\n",
    "        \n",
    "    def turn_on(self):\n",
    "        if self._estate:\n",
    "            print(\"The lamp is already on!\\n\")\n",
    "        else:\n",
    "            self._estate = True\n",
    "            self._show_lamp() #Las funcines privadas son solo para usarla dentro de la misma clase\n",
    "        \n",
    "    def turn_off(self):\n",
    "        if not self._estate:\n",
    "            print(\"The lamp is already off!\\n\")\n",
    "        else:\n",
    "            self._estate = False\n",
    "            self._show_lamp()\n",
    "        \n",
    "    def _show_lamp(self): #El metodo es privado porque no queremos que los usuarios a su gusto pueda desplegar la lampara\n",
    "        if self._estate:\n",
    "            print(self._LAMPS[0])\n",
    "        else:\n",
    "            print(self._LAMPS[1])\n",
    "        \n",
    "lamp1 = Lamp(False)\n",
    "\n",
    "while True:\n",
    "    option = int(input(\"\"\"Choose an option: \n",
    "    1. Turn on the lamp\n",
    "    2. Turn off the lamp\n",
    "    3. Exit\"\"\"))\n",
    "    \n",
    "    if option == 1:\n",
    "        lamp1.turn_on()\n",
    "    elif option == 2:\n",
    "        lamp1.turn_off()\n",
    "    else:\n",
    "        break"
   ]
  },
  {
   "cell_type": "code",
   "execution_count": 38,
   "outputs": [
    {
     "name": "stdout",
     "text": [
      "Your password is correct.\n"
     ],
     "output_type": "stream"
    }
   ],
   "source": [
    "def protected(func):\n",
    "    \n",
    "    def wrapper(pwd):\n",
    "        if pwd == \"Platzi\":\n",
    "            func()\n",
    "        else:\n",
    "            print(\"The password is not correct.\")\n",
    "\n",
    "    return wrapper\n",
    "\n",
    "@protected\n",
    "def protected_fun():\n",
    "    print(\"Your password is correct.\")\n",
    "\n",
    "ACCOUNTS = {}\n",
    "\n",
    "password = input(\"Password: \")\n",
    "protected_fun(password)\n",
    "\n",
    "#while True:\n",
    "    # \n",
    "    # option = int(input(\"\"\"Welcome to decorators class, please choose an option:\n",
    "    # 1. Login\n",
    "    # 2. Register\n",
    "    # 3. Exit\n",
    "    # \"\"\"))\n",
    "    # \n",
    "    # if option == 1:\n",
    "    #     user = input(\"Enter your name, phone or e-mail: \")\n",
    "    #     password = input(\"Enter your password: \")\n",
    "    #     if user in ACCOUNTS:\n",
    "    #         if password == ACCOUNTS[user]:\n",
    "    #             print(\"Login Successful!\")\n",
    "    #         else:\n",
    "    #             print(\"Wrong Password!\")\n",
    "    #     else:\n",
    "    #         print(\"Wrong User!\")\n",
    "    # elif option == 2:\n",
    "    #     user = input(\"Enter your name, phone or e-mail: \")\n",
    "    #     password = input(\"Enter your password: \")\n",
    "    #     print(\"Register successful\")\n",
    "    #     if user in ACCOUNTS:\n",
    "    #         print(\"User already exist!, try another\")\n",
    "    #     else:\n",
    "    #         ACCOUNTS.update({user:password})\n",
    "    # else:\n",
    "    #     break\n"
   ],
   "metadata": {
    "collapsed": false,
    "pycharm": {
     "name": "#%%\n",
     "is_executing": false
    }
   }
  },
  {
   "cell_type": "code",
   "execution_count": 46,
   "outputs": [
    {
     "name": "stdout",
     "text": [
      "Password Incorrect\n"
     ],
     "output_type": "stream"
    }
   ],
   "source": [
    "def protected_decorator(func):\n",
    "    \n",
    "    def validate_user(obj,pwd):\n",
    "        if pwd == \"Platzi\":\n",
    "            func(obj)\n",
    "        else:\n",
    "            print(\"Password Incorrect\")\n",
    "    \n",
    "    return validate_user\n",
    "\n",
    "class User:\n",
    "    \n",
    "    def __init__(self,**kwargs):\n",
    "        self._name = kwargs['Nombre']\n",
    "        self._lastname = kwargs['Apellido']\n",
    "        self._age = kwargs['Edad']\n",
    "        \n",
    "    @protected_decorator\n",
    "    def getdata(self):\n",
    "        print(f\"Hi, mi name is {self._name} {self._lastname} and i am {self._age} years old\")\n",
    "\n",
    "user1 = User(Nombre=\"Daniel\",Apellido=\"Valencia\",Edad=22)\n",
    "password = input(\"Enter the password: \")\n",
    "user1.getdata(password)"
   ],
   "metadata": {
    "collapsed": false,
    "pycharm": {
     "name": "#%%\n",
     "is_executing": false
    }
   }
  },
  {
   "cell_type": "code",
   "execution_count": 36,
   "outputs": [
    {
     "name": "stdout",
     "text": [
      "The message \"dsad\" was send to the number 333\n"
     ],
     "output_type": "stream"
    }
   ],
   "source": [
    "def protected_function(func):\n",
    "    \n",
    "    def validate_data(phone,sms):\n",
    "        if phone.isdigit() and len(sms) > 0:\n",
    "            func(phone,message)\n",
    "        else:\n",
    "            print(\"Error in data!\")\n",
    "            \n",
    "    return validate_data\n",
    "\n",
    "\n",
    "@protected_function\n",
    "def send_sms(phone,sms):\n",
    "    print(f\"The message \\\"{sms}\\\" was send to the number {phone}\")\n",
    "    \n",
    "number = input(\"Enter the phone: \") \n",
    "message = input(\"Enter the message: \")\n",
    "send_sms(number,message)"
   ],
   "metadata": {
    "collapsed": false,
    "pycharm": {
     "name": "#%%\n",
     "is_executing": false
    }
   }
  },
  {
   "cell_type": "code",
   "execution_count": 50,
   "outputs": [
    {
     "name": "stdout",
     "text": [
      "Vamos a realizar un calculo: \n",
      "20\n",
      "Hemos terminado: \n"
     ],
     "output_type": "stream"
    }
   ],
   "source": [
    "def funcion_decoradora(funcion_parametro):\n",
    "    \n",
    "    def funcion_interior(*args):\n",
    "        print(\"Vamos a realizar un calculo: \")\n",
    "        funcion_parametro(*args)\n",
    "        print(\"Hemos terminado: \")\n",
    "    \n",
    "    return funcion_interior\n",
    "\n",
    "@funcion_decoradora\n",
    "def suma(n1,n2,n3):\n",
    "    print(n1+n2+n3)\n",
    "    \n",
    "suma(7,5,8)"
   ],
   "metadata": {
    "collapsed": false,
    "pycharm": {
     "name": "#%%\n",
     "is_executing": false
    }
   }
  }
 ],
 "metadata": {
  "kernelspec": {
   "display_name": "Python 3",
   "language": "python",
   "name": "python3"
  },
  "language_info": {
   "codemirror_mode": {
    "name": "ipython",
    "version": 2
   },
   "file_extension": ".py",
   "mimetype": "text/x-python",
   "name": "python",
   "nbconvert_exporter": "python",
   "pygments_lexer": "ipython2",
   "version": "2.7.6"
  },
  "pycharm": {
   "stem_cell": {
    "cell_type": "raw",
    "source": [],
    "metadata": {
     "collapsed": false
    }
   }
  }
 },
 "nbformat": 4,
 "nbformat_minor": 0
}