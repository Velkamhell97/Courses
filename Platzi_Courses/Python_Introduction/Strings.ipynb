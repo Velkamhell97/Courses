{
 "cells": [
  {
   "cell_type": "code",
   "execution_count": 23,
   "metadata": {
    "collapsed": true,
    "pycharm": {
     "is_executing": false
    }
   },
   "outputs": [
    {
     "name": "stdout",
     "text": [
      "Luis Daniel\n",
      "Luis\n",
      "Daniel\n",
      "Juan Daniel\n"
     ],
     "output_type": "stream"
    }
   ],
   "source": [
    "string1 = \"Luis Daniel\" # The strings are immutable objects\n",
    "print(string1)\n",
    "print(string1[0:4])\n",
    "print(string1[-6::])\n",
    "\n",
    "\n",
    "string2 = string1.replace(\"Luis\",\"Juan\") # One way to change his value is replacing\n",
    "print(string2)\n",
    "\n"
   ]
  }
 ],
 "metadata": {
  "kernelspec": {
   "display_name": "Python 3",
   "language": "python",
   "name": "python3"
  },
  "language_info": {
   "codemirror_mode": {
    "name": "ipython",
    "version": 2
   },
   "file_extension": ".py",
   "mimetype": "text/x-python",
   "name": "python",
   "nbconvert_exporter": "python",
   "pygments_lexer": "ipython2",
   "version": "2.7.6"
  },
  "pycharm": {
   "stem_cell": {
    "cell_type": "raw",
    "source": [],
    "metadata": {
     "collapsed": false
    }
   }
  }
 },
 "nbformat": 4,
 "nbformat_minor": 0
}