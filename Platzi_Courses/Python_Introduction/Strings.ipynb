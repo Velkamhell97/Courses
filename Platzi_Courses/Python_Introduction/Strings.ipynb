{
 "cells": [
  {
   "cell_type": "code",
   "execution_count": 23,
   "metadata": {
    "collapsed": true,
    "pycharm": {
     "is_executing": false
    }
   },
   "outputs": [
    {
     "name": "stdout",
     "text": [
      "Luis Daniel\n",
      "Luis\n",
      "Daniel\n",
      "Juan Daniel\n"
     ],
     "output_type": "stream"
    }
   ],
   "source": [
    "string1 = \"Luis Daniel\" # The strings are immutable objects\n",
    "print(string1)\n",
    "print(string1[0:4])\n",
    "print(string1[-6::])\n",
    "\n",
    "\n",
    "string2 = string1.replace(\"Luis\",\"Juan\") # One way to change his value is replacing\n",
    "print(string2)\n"
   ]
  },
  {
   "cell_type": "code",
   "execution_count": 31,
   "outputs": [
    {
     "name": "stdout",
     "text": [
      "The word \"television\" is not palindrome, it reads only one way\n"
     ],
     "output_type": "stream"
    }
   ],
   "source": [
    "def ispalindrome(string_to_test):\n",
    "    if string_to_test == string_to_test[::-1]:\n",
    "        return True\n",
    "    else:\n",
    "        return False\n",
    "\n",
    "word = input(\"Enter a word: \")\n",
    "if ispalindrome(word):\n",
    "    print(f\"The word \\\"{word}\\\" is palindrome, it reads the same way forwards or backwards\")\n",
    "else:\n",
    "    print(f\"The word \\\"{word}\\\" is not palindrome, it reads only one way\")\n"
   ],
   "metadata": {
    "collapsed": false,
    "pycharm": {
     "name": "#%%\n",
     "is_executing": false
    }
   }
  }
 ],
 "metadata": {
  "kernelspec": {
   "display_name": "Python 3",
   "language": "python",
   "name": "python3"
  },
  "language_info": {
   "codemirror_mode": {
    "name": "ipython",
    "version": 2
   },
   "file_extension": ".py",
   "mimetype": "text/x-python",
   "name": "python",
   "nbconvert_exporter": "python",
   "pygments_lexer": "ipython2",
   "version": "2.7.6"
  },
  "pycharm": {
   "stem_cell": {
    "cell_type": "raw",
    "source": [],
    "metadata": {
     "collapsed": false
    }
   }
  }
 },
 "nbformat": 4,
 "nbformat_minor": 0
}