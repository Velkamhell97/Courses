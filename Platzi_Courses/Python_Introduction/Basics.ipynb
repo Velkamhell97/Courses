{
 "cells": [
  {
   "cell_type": "code",
   "execution_count": 1,
   "metadata": {
    "collapsed": true,
    "pycharm": {
     "is_executing": false
    }
   },
   "outputs": [
    {
     "name": "stdout",
     "text": [
      "9\n",
      "2\n",
      "2.5\n",
      "1\n"
     ],
     "output_type": "stream"
    }
   ],
   "source": [
    "#Operadores no tan conocidos:\n",
    "# ** Operador de potencia\n",
    "# // Operador de division de enteros\n",
    "# % Operacion del residuo\n",
    "\n",
    "print(3**2)\n",
    "print(5//2)\n",
    "print(5/2)\n",
    "print(5%2)"
   ]
  },
  {
   "cell_type": "code",
   "execution_count": 9,
   "outputs": [
    {
     "name": "stdout",
     "text": [
      "<class 'int'>\n",
      "True\n",
      "<class 'float'>\n",
      "False\n",
      "<class 'bool'>\n",
      "True\n",
      "<class 'str'>\n",
      "False\n"
     ],
     "output_type": "stream"
    }
   ],
   "source": [
    "# Para conocer el tipo de dato podemos usar el type\n",
    "print(type(2))\n",
    "print(type(2)==int)\n",
    "print(type(2.5))\n",
    "print(type(2.5)==str)\n",
    "print(type(True))\n",
    "print(type(True)==bool)\n",
    "print(type(\"Hola Mundo\"))\n",
    "print(type(\"Hola Mundo\")==float)"
   ],
   "metadata": {
    "collapsed": false,
    "pycharm": {
     "name": "#%%\n",
     "is_executing": false
    }
   }
  },
  {
   "cell_type": "code",
   "execution_count": 11,
   "outputs": [
    {
     "name": "stdout",
     "text": [
      "6\n",
      "10.4\n",
      "Hola tengo 18 años\n",
      "El año tiene 12 meses\n"
     ],
     "output_type": "stream"
    }
   ],
   "source": [
    "#Para convertir usamos int,float o str, o interpolando\n",
    "meses = 12\n",
    "print(2+int(\"4\"))\n",
    "print(4+float(\"6.4\"))\n",
    "print(\"Hola tengo \"+str(18)+\" años\")\n",
    "print(f\"El año tiene {meses} meses\")"
   ],
   "metadata": {
    "collapsed": false,
    "pycharm": {
     "name": "#%%\n",
     "is_executing": false
    }
   }
  },
  {
   "cell_type": "code",
   "execution_count": 2,
   "outputs": [
    {
     "name": "stdout",
     "text": [
      "Bienvenido al figurador Daniel\n",
      "    Para hacer un triangulo indica 1 o \"triangulo\"\n",
      "    Para dibujar un cuadrado indica 2 o \"cuadrado\"\n"
     ],
     "output_type": "stream"
    },
    {
     "traceback": [
      "An exception has occurred, use %tb to see the full traceback.\n",
      "\u001b[1;31mSystemExit\u001b[0m\n"
     ],
     "ename": "SystemExit",
     "evalue": "",
     "output_type": "error"
    },
    {
     "name": "stderr",
     "text": [
      "c:\\users\\monik\\appdata\\local\\programs\\python\\python37-32\\lib\\site-packages\\IPython\\core\\interactiveshell.py:3334: UserWarning: To exit: use 'exit', 'quit', or Ctrl-D.\n",
      "  warn(\"To exit: use 'exit', 'quit', or Ctrl-D.\", stacklevel=1)\n"
     ],
     "output_type": "stream"
    }
   ],
   "source": [
    "# La funcion input recibe una entrada\n",
    "# Con el try-except evitamos errores\n",
    "# Los ciclos ayudan a no parar el codigo\n",
    "import turtle\n",
    "import sys\n",
    "from tkinter import messagebox\n",
    "\n",
    "while True:\n",
    "    username = input(\"Ingresa tu nombre\")\n",
    "    print(f\"\"\"Bienvenido al figurador {username}\n",
    "    Para hacer un triangulo indica 1 o \\\"triangulo\\\"\n",
    "    Para dibujar un cuadrado indica 2 o \\\"cuadrado\\\"\"\"\")\n",
    "    option = input(\"Ingresa tu opcion\")\n",
    "    while True:\n",
    "        if option == \"0\":\n",
    "            messagebox.showinfo(\"Info\",\"Hasta La Proxima\")\n",
    "            sys.exit()\n",
    "        elif option!='1' and option!='2' and option!= 'triangulo' and option!='cuadrado':\n",
    "            option = input(\"Ingresa una opcion valida o 0 para salir\")\n",
    "        else:\n",
    "            break\n",
    "            \n",
    "    window = turtle.Screen()\n",
    "    marker = turtle.Turtle()\n",
    "    \n",
    "    if option == '1' or option == 'triangulo':\n",
    "        marker.forward(50)\n",
    "        marker.left(90)\n",
    "        marker.forward(50)\n",
    "        marker.left(90)\n",
    "        marker.forward(50)\n",
    "        marker.left(90)\n",
    "        marker.forward(50)\n",
    "        marker.left(90)\n",
    "        \n",
    "        turtle.mainloop()\n",
    "    else:\n",
    "        marker.forward(100)\n",
    "        marker.left(116.565)\n",
    "        marker.forward(111.8)\n",
    "        marker.left(126.869)\n",
    "        marker.forward(111.8)\n",
    "    \n",
    "        turtle.mainloop()\n",
    "    \n",
    "    option2 = input(\"Si quieres volver a empezar indica 1, si quieres salir indica 0\")\n",
    "    \n",
    "    if option2 == \"0\":\n",
    "        break\n",
    "\n",
    "messagebox.showinfo(\"Info\",\"Hasta La Proxima\")\n",
    "sys.exit()\n",
    "\n",
    "\n"
   ],
   "metadata": {
    "collapsed": false,
    "pycharm": {
     "name": "#%%\n",
     "is_executing": false
    }
   }
  }
 ],
 "metadata": {
  "kernelspec": {
   "display_name": "Python 3",
   "language": "python",
   "name": "python3"
  },
  "language_info": {
   "codemirror_mode": {
    "name": "ipython",
    "version": 2
   },
   "file_extension": ".py",
   "mimetype": "text/x-python",
   "name": "python",
   "nbconvert_exporter": "python",
   "pygments_lexer": "ipython2",
   "version": "2.7.6"
  },
  "pycharm": {
   "stem_cell": {
    "cell_type": "raw",
    "source": [],
    "metadata": {
     "collapsed": false
    }
   }
  }
 },
 "nbformat": 4,
 "nbformat_minor": 0
}