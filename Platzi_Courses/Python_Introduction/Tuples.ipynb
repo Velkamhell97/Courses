{
 "cells": [
  {
   "cell_type": "code",
   "execution_count": 9,
   "metadata": {
    "collapsed": true,
    "pycharm": {
     "is_executing": false
    }
   },
   "outputs": [
    {
     "name": "stdout",
     "text": [
      "(1, 2, 3, 1, 1, True, [1, 2, 3, 4, 5])\n",
      "1\n",
      "('a', 'b', 'a', 'b', 'a', 'c')\n",
      "1\n",
      "1\n",
      "2\n",
      "3\n",
      "1\n",
      "1\n",
      "True\n",
      "[1, 2, 3, 4, 5]\n",
      "2\n"
     ],
     "output_type": "stream"
    }
   ],
   "source": [
    "tuple1 = (1,2,3,1,1,True,[1,2,3,4,5])\n",
    "print(tuple1)\n",
    "print(tuple1[4])\n",
    "\n",
    "tuple2 = tuple(\"ababac\")\n",
    "print(tuple2)\n",
    "print(tuple2.index('b'))\n",
    "\n",
    "for i in tuple1:\n",
    "    print(i)\n",
    "\n",
    "print(tuple2.count('b'))"
   ]
  },
  {
   "cell_type": "code",
   "execution_count": 13,
   "outputs": [
    {
     "name": "stdout",
     "text": [
      "The first character that is not repeated is: \"y\"\n"
     ],
     "output_type": "stream"
    }
   ],
   "source": [
    "def no_repeat_search(text_to_search):\n",
    "    tuple_text = tuple(text_to_search)\n",
    "    for idx in range(len(tuple_text)):\n",
    "        if tuple_text.count(tuple_text[idx]) == 1:\n",
    "            return tuple_text[idx]\n",
    "    return '-'\n",
    "    \n",
    "text = input(\"Enter a text: \")\n",
    "\n",
    "result = no_repeat_search(text)\n",
    "\n",
    "if result == '-':\n",
    "    print(\"All the characters are repeated\")\n",
    "else:\n",
    "    print(f\"The first character that is not repeated is: \\\"{result}\\\"\")"
   ],
   "metadata": {
    "collapsed": false,
    "pycharm": {
     "name": "#%%\n",
     "is_executing": false
    }
   }
  },
  {
   "cell_type": "code",
   "execution_count": 22,
   "outputs": [
    {
     "name": "stdout",
     "text": [
      "{1, 2, 3, 4}\n",
      "1\n",
      "2\n",
      "3\n",
      "4\n",
      "{1, 2, 3, 4, 5, 6}\n",
      "{3}\n",
      "{1, 2}\n",
      "{1, 2, 4, 5, 6}\n"
     ],
     "output_type": "stream"
    }
   ],
   "source": [
    "set1 = {1,2,3,4,1,2,3,4} # No se repiten los datos\n",
    "set2 = {1,2,3}\n",
    "set3 = {3,4,5,6}\n",
    "\n",
    "print(set1)\n",
    "for element in set1:\n",
    "    print(element)\n",
    "print(set2.union(set3))\n",
    "print(set2.intersection(set3))\n",
    "print(set2.difference(set3))\n",
    "print(set2.symmetric_difference(set3))"
   ],
   "metadata": {
    "collapsed": false,
    "pycharm": {
     "name": "#%%\n",
     "is_executing": false
    }
   }
  },
  {
   "cell_type": "code",
   "execution_count": 40,
   "outputs": [
    {
     "name": "stdout",
     "text": [
      "[0, 1, 4, 9, 16, 25, 36, 49, 64, 81, 100]\n",
      "[0, 1, 4, 9, 16, 25, 36, 49, 64, 81, 100]\n",
      "[0, 2, 4, 6, 8, 10]\n",
      "[0, 2, 4, 6, 8, 10]\n",
      "{'a': 1, 'b': 2, 'c': 3, 'd': 4, 'e': 5}\n",
      "{'a': 1, 'b': 4, 'c': 9, 'd': 16, 'e': 25}\n",
      "{'a': 1, 'b': 4, 'c': 9, 'd': 16, 'e': 25}\n",
      "{'b': 2, 'd': 4}\n",
      "{'b': 2, 'd': 4}\n",
      "{'t1': -34.44444444444444, 't2': -28.88888888888889, 't3': -23.333333333333336, 't4': -17.77777777777778}\n",
      "{'t1': -34.44444444444444, 't2': -28.88888888888889, 't3': -23.333333333333336, 't4': -17.77777777777778}\n"
     ],
     "output_type": "stream"
    }
   ],
   "source": [
    "list_square1 = [x**2 for x in range(11)]\n",
    "list_square2 = list(map(lambda x : x*x, range(11)))\n",
    "\n",
    "print(list_square1)\n",
    "print(list_square2)\n",
    "\n",
    "list_odd1 = [x for x in range(11) if x%2 == 0]\n",
    "list_odd2 = list(filter(lambda x : x % 2 == 0, range(11)))\n",
    "\n",
    "print(list_odd1)\n",
    "print(list_odd2)\n",
    "\n",
    "dict1 = {'a':1,'b':2,'c':3,'d':4,'e':5}\n",
    "dict_square1 = {k:v*v for (k,v) in dict1.items()}\n",
    "dict_square2 = dict(map(lambda item: (item[0], item[1]*item[1]), dict1.items()))\n",
    "\n",
    "print(dict1)\n",
    "print(dict_square1)\n",
    "print(dict_square2)\n",
    "\n",
    "dict2 = {'a':1,'b':2,'c':3,'d':4,'e':5}\n",
    "dict_odd1 = {k:v for (k,v) in dict2.items() if v%2 == 0}\n",
    "dict_odd2 = dict(filter(lambda item: item[1] %2 == 0, dict2.items()))\n",
    "\n",
    "print(dict_odd1)\n",
    "print(dict_odd2)\n",
    "\n",
    "dict_farenheit = {'t1':-30,'t2':-20,'t3':-10,'t4':0}\n",
    "dict_celsius1 = {k:((float(5)/9)*(v-32)) for (k,v) in dict_farenheit.items()}\n",
    "dict_celsius2 = dict(map(lambda item: (item[0], ((float(5)/9)*(item[1]-32))), dict_farenheit.items()))\n",
    "\n",
    "\n",
    "print(dict_celsius1)\n",
    "print(dict_celsius2)"
   ],
   "metadata": {
    "collapsed": false,
    "pycharm": {
     "name": "#%%\n",
     "is_executing": false
    }
   }
  }
 ],
 "metadata": {
  "kernelspec": {
   "display_name": "Python 3",
   "language": "python",
   "name": "python3"
  },
  "language_info": {
   "codemirror_mode": {
    "name": "ipython",
    "version": 2
   },
   "file_extension": ".py",
   "mimetype": "text/x-python",
   "name": "python",
   "nbconvert_exporter": "python",
   "pygments_lexer": "ipython2",
   "version": "2.7.6"
  },
  "pycharm": {
   "stem_cell": {
    "cell_type": "raw",
    "source": [],
    "metadata": {
     "collapsed": false
    }
   }
  }
 },
 "nbformat": 4,
 "nbformat_minor": 0
}