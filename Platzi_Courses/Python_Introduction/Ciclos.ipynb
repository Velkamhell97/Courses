{
 "cells": [
  {
   "cell_type": "code",
   "execution_count": 6,
   "metadata": {
    "collapsed": true,
    "pycharm": {
     "is_executing": false
    }
   },
   "outputs": [
    {
     "name": "stdout",
     "text": [
      "1\n",
      "2\n",
      "3\n",
      "4\n",
      "5\n",
      "6\n",
      "7\n",
      "8\n",
      "9\n",
      "10\n",
      "1\n",
      "2\n",
      "3\n",
      "4\n",
      "5\n",
      "6\n",
      "7\n",
      "8\n",
      "9\n",
      "10\n",
      "D\n",
      "a\n",
      "n\n",
      "i\n",
      "e\n",
      "l\n",
      "The number 18 has the following dividers: [1, 2, 3, 6, 9, 18]\n",
      "The first 6 multiples of 3 are [0, 3, 6, 9, 12, 15]\n"
     ],
     "output_type": "stream"
    }
   ],
   "source": [
    "for i in range(1,11):\n",
    "    print(i)\n",
    "    \n",
    "counter = 1\n",
    "\n",
    "for i in \"Daniel\":\n",
    "    print(i)\n"
   ]
  },
  {
   "cell_type": "code",
   "execution_count": null,
   "outputs": [],
   "source": [
    "while counter <11:\n",
    "    print(counter)\n",
    "    counter = counter + 1"
   ],
   "metadata": {
    "collapsed": false,
    "pycharm": {
     "name": "#%%\n"
    }
   }
  },
  {
   "cell_type": "code",
   "execution_count": null,
   "outputs": [],
   "source": [
    "def multiples(number_to_test,number_of_multiplies):\n",
    "    numbers = []\n",
    "    for i in range(0,number_of_multiplies):\n",
    "        numbers.append(number_to_test*i)\n",
    "    \n",
    "    return numbers\n",
    "        \n",
    "numberM = int(input(\"Enter a number: \"))\n",
    "multiplesM = int(input(\"Enter the numbers of multiples to calculate: \"))\n",
    "print(f\"The first {multiplesM} multiples of {numberM} are {multiples(numberM,multiplesM)}\")"
   ],
   "metadata": {
    "collapsed": false,
    "pycharm": {
     "name": "#%%\n"
    }
   }
  },
  {
   "cell_type": "code",
   "execution_count": null,
   "outputs": [],
   "source": [
    "def dividers(number_to_test):\n",
    "    numbers = []\n",
    "    for i in range(1,number_to_test+1):\n",
    "        if number_to_test % i == 0:\n",
    "            numbers.append(i)\n",
    "    \n",
    "    return numbers\n",
    "\n",
    "numberD = int(input(\"Enter a number: \"))\n",
    "print(f\"The number {numberD} has the following dividers: {dividers(numberD)}\")\n"
   ],
   "metadata": {
    "collapsed": false,
    "pycharm": {
     "name": "#%%\n"
    }
   }
  },
  {
   "cell_type": "code",
   "execution_count": 20,
   "outputs": [
    {
     "name": "stdout",
     "text": [
      "Too big!\n",
      "Thank you for playing!\n"
     ],
     "output_type": "stream"
    }
   ],
   "source": [
    "import random\n",
    "\n",
    "difficulty = int(input(\"\"\"Welcome to the numbers game, please select the difficulty: \n",
    " 1. Easy (0-10 number)\n",
    " 2. Medium (0-20 number)\n",
    " 3 Hard (0-20 number)\"\"\"))\n",
    "winNumber = 0\n",
    "\n",
    "if difficulty == 1:\n",
    "    winNumber = random.randint(0,10)\n",
    "elif difficulty == 2:\n",
    "    winNumber = random.randint(0,20)\n",
    "else:\n",
    "    winNumber = random.randint(0,30)\n",
    "\n",
    "selectNumber = None\n",
    "gameOption = \"YES\"\n",
    "\n",
    "while gameOption != 'NOT':\n",
    "    selectNumber = int(input(\"Enter your number: \"))\n",
    "    if selectNumber == winNumber:\n",
    "        break\n",
    "    elif selectNumber > winNumber:\n",
    "        print(\"Too big!\")\n",
    "    elif selectNumber < winNumber:\n",
    "        print(\"Too small!\")\n",
    "    \n",
    "    gameOption = input(\"Do you try again? (YES/NOT)\").upper()\n",
    "    \n",
    "if selectNumber == winNumber:\n",
    "    print(\"Congratulations you WIN!\")\n",
    "else:\n",
    "    print(\"Thank you for playing!\")"
   ],
   "metadata": {
    "collapsed": false,
    "pycharm": {
     "name": "#%%\n",
     "is_executing": false
    }
   }
  }
 ],
 "metadata": {
  "kernelspec": {
   "display_name": "Python 3",
   "language": "python",
   "name": "python3"
  },
  "language_info": {
   "codemirror_mode": {
    "name": "ipython",
    "version": 2
   },
   "file_extension": ".py",
   "mimetype": "text/x-python",
   "name": "python",
   "nbconvert_exporter": "python",
   "pygments_lexer": "ipython2",
   "version": "2.7.6"
  },
  "pycharm": {
   "stem_cell": {
    "cell_type": "raw",
    "source": [],
    "metadata": {
     "collapsed": false
    }
   }
  }
 },
 "nbformat": 4,
 "nbformat_minor": 0
}