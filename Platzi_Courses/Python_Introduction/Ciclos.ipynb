{
 "cells": [
  {
   "cell_type": "code",
   "execution_count": null,
   "metadata": {
    "collapsed": true,
    "pycharm": {
     "is_executing": false
    }
   },
   "outputs": [],
   "source": [
    "for i in range(1,11):\n",
    "    print(i)\n",
    "    \n",
    "counter = 1\n",
    "\n",
    "for i in \"Daniel\":\n",
    "    print(i)\n"
   ]
  },
  {
   "cell_type": "code",
   "execution_count": null,
   "outputs": [],
   "source": [
    "while counter <11:\n",
    "    print(counter)\n",
    "    counter = counter + 1"
   ],
   "metadata": {
    "collapsed": false,
    "pycharm": {
     "name": "#%%\n"
    }
   }
  },
  {
   "cell_type": "code",
   "execution_count": null,
   "outputs": [],
   "source": [
    "def multiples(number_to_test,number_of_multiplies):\n",
    "    numbers = []\n",
    "    for i in range(0,number_of_multiplies):\n",
    "        numbers.append(number_to_test*i)\n",
    "    \n",
    "    return numbers\n",
    "        \n",
    "numberM = int(input(\"Enter a number: \"))\n",
    "multiplesM = int(input(\"Enter the numbers of multiples to calculate: \"))\n",
    "print(f\"The first {multiplesM} multiples of {numberM} are {multiples(numberM,multiplesM)}\")"
   ],
   "metadata": {
    "collapsed": false,
    "pycharm": {
     "name": "#%%\n"
    }
   }
  },
  {
   "cell_type": "code",
   "execution_count": null,
   "outputs": [],
   "source": [
    "def dividers(number_to_test):\n",
    "    numbers = []\n",
    "    for i in range(1,number_to_test+1):\n",
    "        if number_to_test % i == 0:\n",
    "            numbers.append(i)\n",
    "    \n",
    "    return numbers\n",
    "\n",
    "numberD = int(input(\"Enter a number: \"))\n",
    "print(f\"The number {numberD} has the following dividers: {dividers(numberD)}\")\n"
   ],
   "metadata": {
    "collapsed": false,
    "pycharm": {
     "name": "#%%\n"
    }
   }
  },
  {
   "cell_type": "code",
   "execution_count": null,
   "outputs": [],
   "source": [
    "import random\n",
    "\n",
    "difficulty = int(input(\"\"\"Welcome to the numbers game, please select the difficulty: \n",
    " 1. Easy (0-10 number)\n",
    " 2. Medium (0-20 number)\n",
    " 3 Hard (0-20 number)\"\"\"))\n",
    "winNumber = 0\n",
    "\n",
    "if difficulty == 1:\n",
    "    winNumber = random.randint(0,10)\n",
    "elif difficulty == 2:\n",
    "    winNumber = random.randint(0,20)\n",
    "else:\n",
    "    winNumber = random.randint(0,30)\n",
    "\n",
    "selectNumber = None\n",
    "gameOption = \"YES\"\n",
    "\n",
    "while gameOption != 'NOT':\n",
    "    selectNumber = int(input(\"Enter your number: \"))\n",
    "    if selectNumber == winNumber:\n",
    "        break\n",
    "    elif selectNumber > winNumber:\n",
    "        print(\"Too big!\")\n",
    "    elif selectNumber < winNumber:\n",
    "        print(\"Too small!\")\n",
    "    \n",
    "    gameOption = input(\"Do you try again? (YES/NOT)\").upper()\n",
    "    \n",
    "if selectNumber == winNumber:\n",
    "    print(\"Congratulations you WIN!\")\n",
    "else:\n",
    "    print(\"Thank you for playing!\")"
   ],
   "metadata": {
    "collapsed": false,
    "pycharm": {
     "name": "#%%\n",
     "is_executing": false
    }
   }
  },
  {
   "cell_type": "code",
   "execution_count": 3,
   "outputs": [
    {
     "name": "stdout",
     "text": [
      "Descargando la imagen barrel_cropped_(1).jpg\n",
      "Descargando la imagen tree_cropped_(1).jpg\n",
      "Descargando la imagen island_color.jpg\n",
      "Descargando la imagen landscape_cropped_(1).jpg\n",
      "Descargando la imagen blownapart_color.jpg\n"
     ],
     "output_type": "stream"
    }
   ],
   "source": [
    "import requests\n",
    "from bs4 import BeautifulSoup\n",
    "import urllib\n",
    "import urllib3\n",
    "\n",
    "for i in range(1,6):\n",
    "    response = requests.get(f'https://xkcd.com/{i}')\n",
    "    soup = BeautifulSoup(response.content,'html.parser')\n",
    "    img_container = soup.find(id=\"comic\")\n",
    "    \n",
    "    img_url = img_container.find('img')['src']\n",
    "    img_name = img_url.split('/')[-1]\n",
    "    print(f\"Descargando la imagen {img_name}\")\n",
    "    urllib.request.urlretrieve(f'https:{img_url}', img_name)\n",
    "    "
   ],
   "metadata": {
    "collapsed": false,
    "pycharm": {
     "name": "#%%\n",
     "is_executing": false
    }
   }
  }
 ],
 "metadata": {
  "kernelspec": {
   "display_name": "Python 3",
   "language": "python",
   "name": "python3"
  },
  "language_info": {
   "codemirror_mode": {
    "name": "ipython",
    "version": 2
   },
   "file_extension": ".py",
   "mimetype": "text/x-python",
   "name": "python",
   "nbconvert_exporter": "python",
   "pygments_lexer": "ipython2",
   "version": "2.7.6"
  },
  "pycharm": {
   "stem_cell": {
    "cell_type": "raw",
    "source": [],
    "metadata": {
     "collapsed": false
    }
   }
  }
 },
 "nbformat": 4,
 "nbformat_minor": 0
}