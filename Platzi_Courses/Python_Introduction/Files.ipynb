{
 "cells": [
  {
   "cell_type": "code",
   "execution_count": 34,
   "metadata": {
    "collapsed": true,
    "pycharm": {
     "is_executing": false
    }
   },
   "outputs": [
    {
     "name": "stdout",
     "text": [
      "['.\"Hola mundo\"']\n"
     ],
     "output_type": "stream"
    }
   ],
   "source": [
    "with open('test.txt','w') as f: # Con el context manager, no se debe cerrar f.close()\n",
    "    for i in range(10):\n",
    "        f.write(str(i))\n"
   ]
  },
  {
   "cell_type": "code",
   "execution_count": 49,
   "outputs": [
    {
     "name": "stdout",
     "text": [
      "Beatriz word appears 27 times in the book\n"
     ],
     "output_type": "stream"
    }
   ],
   "source": [
    "with open(\"aleph.txt\",encoding='utf-8') as f:\n",
    "    beatriz_counter = \"\".join(f.readlines()).count(\"Beatriz\")\n",
    "    print(f\"Beatriz word appears {beatriz_counter} times in the book\")\n",
    "    \n",
    "    #text_to_list = f.readlines()\n",
    "    #beatriz_counter = 0\n",
    "    #for line in text_to_list:\n",
    "    #    beatriz_counter += line.count(\"Beatriz\")\n",
    "    "
   ],
   "metadata": {
    "collapsed": false,
    "pycharm": {
     "name": "#%%\n",
     "is_executing": false
    }
   }
  }
 ],
 "metadata": {
  "kernelspec": {
   "display_name": "Python 3",
   "language": "python",
   "name": "python3"
  },
  "language_info": {
   "codemirror_mode": {
    "name": "ipython",
    "version": 2
   },
   "file_extension": ".py",
   "mimetype": "text/x-python",
   "name": "python",
   "nbconvert_exporter": "python",
   "pygments_lexer": "ipython2",
   "version": "2.7.6"
  },
  "pycharm": {
   "stem_cell": {
    "cell_type": "raw",
    "source": [],
    "metadata": {
     "collapsed": false
    }
   }
  }
 },
 "nbformat": 4,
 "nbformat_minor": 0
}