{
 "cells": [
  {
   "cell_type": "code",
   "execution_count": 9,
   "metadata": {
    "collapsed": true,
    "pycharm": {
     "is_executing": false
    }
   },
   "outputs": [],
   "source": [
    "with open('test.txt','w') as f: # Con el context manager, no se debe cerrar f.close()\n",
    "    for i in range(10):\n",
    "        f.write(str(i))\n",
    "    f.write(\"\\nThat was all\") #si usamos de nuevo la funcion se escribe en la misma linea\n"
   ]
  },
  {
   "cell_type": "code",
   "execution_count": 20,
   "outputs": [
    {
     "name": "stdout",
     "text": [
      "Beatriz word appears 27 times in the text\n"
     ],
     "output_type": "stream"
    }
   ],
   "source": [
    "with open(\"aleph.txt\",encoding='utf-8') as f:\n",
    "    #one_line = f.readline() # si se utiliza una vez el proximo comando empezara en la linea siguiente a esta\n",
    "    #all_lines = f.readlines()\n",
    "    #print(one_line)\n",
    "    #print(all_lines)\n",
    "    #join_text = \"\".join(all_lines)\n",
    "    beatriz_counter = f.read().count(\"Beatriz\")\n",
    "    print(f\"Beatriz word appears {beatriz_counter} times in the text\")\n",
    "    \n",
    "    #text_to_list = f.readlines()\n",
    "    #beatriz_counter = 0\n",
    "    #for line in text_to_list:\n",
    "    #    beatriz_counter += line.count(\"Beatriz\")\n",
    "\n",
    "#aditional arguments:\n",
    "# buffering (optional) - used for setting buffering policy\n",
    "# encoding (optional) - the encoding format\n",
    "# errors (optional) - string specifying how to handle encoding/decoding errors\n",
    "# newline​ (optional) - how newlines mode works (available values: None, ' ', '\\n', 'r', and '\\r\\n'\n",
    "# closefd (optional) - must be True (default); if given otherwise, an exception will be raised\n",
    "# opener (optional) - a custom opener; must return an open file descriptor\n",
    "\n",
    "# mode:\n",
    "# ‘r’ – Read mode which is used when the file is only being read \n",
    "# ‘w’ – Write mode which is used to edit and write new information to the file (any existing files with the same name will be erased when this mode is activated) \n",
    "# ‘a’ – Appending mode, which is used to add new data to the end of the file; that is new information is automatically amended to the end \n",
    "# ‘r+’ – Special read and write mode, which is used to handle both actions when working with a file "
   ],
   "metadata": {
    "collapsed": false,
    "pycharm": {
     "name": "#%%\n",
     "is_executing": false
    }
   }
  },
  {
   "cell_type": "code",
   "execution_count": 14,
   "outputs": [],
   "source": [
    "file = open(\"test.txt\",\"w\") \n",
    " \n",
    "file.write(\"Hello World\") \n",
    "file.write(\"This is our new text file\") \n",
    "file.write(\"and this is another line.\") \n",
    "file.write(\"\\nWhy? Because we can.\") \n",
    " \n",
    "file.close() "
   ],
   "metadata": {
    "collapsed": false,
    "pycharm": {
     "name": "#%%\n",
     "is_executing": false
    }
   }
  },
  {
   "cell_type": "code",
   "execution_count": 19,
   "outputs": [
    {
     "name": "stdout",
     "text": [
      "Hello\n"
     ],
     "output_type": "stream"
    }
   ],
   "source": [
    "file = open(\"test.txt\", \"r\") \n",
    "#print(file.readlines()) # podemos pasar como argumento la linea que queremos leer\n",
    "\n",
    "print(file.read(5))  #podemos pasar como argumento el numero de caracteres que se quiren leer\n",
    "\n"
   ],
   "metadata": {
    "collapsed": false,
    "pycharm": {
     "name": "#%%\n",
     "is_executing": false
    }
   }
  }
 ],
 "metadata": {
  "kernelspec": {
   "display_name": "Python 3",
   "language": "python",
   "name": "python3"
  },
  "language_info": {
   "codemirror_mode": {
    "name": "ipython",
    "version": 2
   },
   "file_extension": ".py",
   "mimetype": "text/x-python",
   "name": "python",
   "nbconvert_exporter": "python",
   "pygments_lexer": "ipython2",
   "version": "2.7.6"
  },
  "pycharm": {
   "stem_cell": {
    "cell_type": "raw",
    "source": [],
    "metadata": {
     "collapsed": false
    }
   }
  }
 },
 "nbformat": 4,
 "nbformat_minor": 0
}