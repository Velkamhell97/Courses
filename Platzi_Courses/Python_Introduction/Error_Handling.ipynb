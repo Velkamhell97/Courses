{
 "cells": [
  {
   "cell_type": "code",
   "execution_count": 11,
   "metadata": {
    "collapsed": true,
    "pycharm": {
     "is_executing": false
    }
   },
   "outputs": [
    {
     "name": "stdout",
     "text": [
      "Hello\n",
      "45\n",
      "Enter a valid number!\n"
     ],
     "output_type": "stream"
    }
   ],
   "source": [
    "print(\"Hello\")\n",
    "print(int(45.44))\n",
    "try:\n",
    "    option = int(input(\"Enter a number \"))\n",
    "    print(option)\n",
    "except ValueError:\n",
    "    print(\"Enter a valid number!\")"
   ]
  },
  {
   "cell_type": "code",
   "execution_count": 17,
   "outputs": [
    {
     "name": "stdout",
     "text": [
      "That country has not yet registered, please check with another\n"
     ],
     "output_type": "stream"
    }
   ],
   "source": [
    "countries_dict = {'mexico': 122, 'colombia': 49, 'argentina': 43, 'chile': 18, 'peru': 31}\n",
    "\n",
    "while True:\n",
    "    input_country = input(\"Enter the country name: \").lower()\n",
    "    try:\n",
    "        population_country = countries_dict[input_country]\n",
    "        print(f\"{input_country} has a population of {population_country} million people\")\n",
    "    except KeyError:\n",
    "        print(\"That country has not yet registered, please check with another\")\n",
    "    else:\n",
    "        print(\"Thanks for use our program\")\n",
    "    finally:\n",
    "        option = input(\"Do you want to try again? [y]/[n]\").lower()\n",
    "        if option == \"n\":\n",
    "            break"
   ],
   "metadata": {
    "collapsed": false,
    "pycharm": {
     "name": "#%%\n",
     "is_executing": false
    }
   }
  }
 ],
 "metadata": {
  "kernelspec": {
   "display_name": "Python 3",
   "language": "python",
   "name": "python3"
  },
  "language_info": {
   "codemirror_mode": {
    "name": "ipython",
    "version": 2
   },
   "file_extension": ".py",
   "mimetype": "text/x-python",
   "name": "python",
   "nbconvert_exporter": "python",
   "pygments_lexer": "ipython2",
   "version": "2.7.6"
  },
  "pycharm": {
   "stem_cell": {
    "cell_type": "raw",
    "source": [],
    "metadata": {
     "collapsed": false
    }
   }
  }
 },
 "nbformat": 4,
 "nbformat_minor": 0
}